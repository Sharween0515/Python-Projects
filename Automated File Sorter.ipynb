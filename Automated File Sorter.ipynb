{
 "cells": [
  {
   "cell_type": "markdown",
   "id": "684aa6d9-a809-4a47-b535-602df83d5bd8",
   "metadata": {},
   "source": [
    "# Automated File Sorter in File Explorer"
   ]
  },
  {
   "cell_type": "code",
   "execution_count": 29,
   "id": "a25e7846-6aa6-4fbf-8f06-f53e3ae214a5",
   "metadata": {},
   "outputs": [],
   "source": [
    "import os, shutil"
   ]
  },
  {
   "cell_type": "code",
   "execution_count": 31,
   "id": "753891ab-09f2-4eaf-8b4d-b6894a22f524",
   "metadata": {},
   "outputs": [],
   "source": [
    "path = r\"C:/Users/tonys/OneDrive/Tutorial Purposes/\""
   ]
  },
  {
   "cell_type": "code",
   "execution_count": 33,
   "id": "8d38c60c-09da-462e-ba25-112444d4b473",
   "metadata": {},
   "outputs": [],
   "source": [
    "file_name = os.listdir(path)"
   ]
  },
  {
   "cell_type": "code",
   "execution_count": 39,
   "id": "e51b8056-6b26-4c2d-8786-70cd5087750c",
   "metadata": {},
   "outputs": [],
   "source": [
    "folder_names = ['CSV FIles','Image Files','Text Files']\n",
    "for loop in range(0,3):\n",
    "    if not os.path.exists(path + folder_names[loop]):\n",
    "        os.makedirs(path + folder_names[loop])\n",
    "\n",
    "for file in file_name:\n",
    "    if '.csv' in file and not os.path.exists(path + 'CSV Files/' + file):\n",
    "        shutil.move(path + file,path + 'CSV Files/' + file)\n",
    "    if '.jpg' in file and not os.path.exists(path + 'Image Files/' + file):\n",
    "        shutil.move(path + file,path + 'Image Files/' + file)\n",
    "    if '.txt' in file and not os.path.exists(path + 'Text Files/' + file):\n",
    "        shutil.move(path + file,path + 'Text Files/' + file)"
   ]
  },
  {
   "cell_type": "code",
   "execution_count": null,
   "id": "5c800ef7-3b42-4616-968e-937290a551d5",
   "metadata": {},
   "outputs": [],
   "source": []
  }
 ],
 "metadata": {
  "kernelspec": {
   "display_name": "Python [conda env:base] *",
   "language": "python",
   "name": "conda-base-py"
  },
  "language_info": {
   "codemirror_mode": {
    "name": "ipython",
    "version": 3
   },
   "file_extension": ".py",
   "mimetype": "text/x-python",
   "name": "python",
   "nbconvert_exporter": "python",
   "pygments_lexer": "ipython3",
   "version": "3.12.7"
  }
 },
 "nbformat": 4,
 "nbformat_minor": 5
}
