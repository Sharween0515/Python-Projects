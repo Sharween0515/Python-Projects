{
 "cells": [
  {
   "cell_type": "code",
   "execution_count": 132,
   "id": "bf494c6f-2e5e-4241-93c5-84fe3df5965d",
   "metadata": {},
   "outputs": [],
   "source": [
    "import pandas as pd\n",
    "import matplotlib.pyplot as plt\n",
    "import matplotlib.animation as ani"
   ]
  },
  {
   "cell_type": "code",
   "execution_count": 134,
   "id": "aba64057-af8d-4603-b8a2-4637c9b3e4c3",
   "metadata": {},
   "outputs": [
    {
     "name": "stderr",
     "output_type": "stream",
     "text": [
      "C:\\Users\\tonys\\AppData\\Local\\Temp\\ipykernel_152700\\1688472621.py:1: DtypeWarning: Columns (2,3,4,7) have mixed types. Specify dtype option on import or set low_memory=False.\n",
      "  df = pd.read_csv('un-country-data.csv')\n"
     ]
    }
   ],
   "source": [
    "df = pd.read_csv('un-country-data.csv')"
   ]
  },
  {
   "cell_type": "code",
   "execution_count": 135,
   "id": "7f34795d-5e97-4325-9a03-fdc1171d5a6b",
   "metadata": {},
   "outputs": [],
   "source": [
    "countries = df[df[\"ISO3_code\"].notnull()]\n",
    "columns = [\"ISO3_code\",\"Location\",\"Time\",\"TPopulation1Jan\",\"TPopulation1July\"]\n",
    "cleaned = countries[columns]\n",
    "cleaned = cleaned.reset_index()"
   ]
  },
  {
   "cell_type": "code",
   "execution_count": 136,
   "id": "47f91023-de02-4ac8-85fd-ade0e905d351",
   "metadata": {},
   "outputs": [
    {
     "data": {
      "text/html": [
       "<div>\n",
       "<style scoped>\n",
       "    .dataframe tbody tr th:only-of-type {\n",
       "        vertical-align: middle;\n",
       "    }\n",
       "\n",
       "    .dataframe tbody tr th {\n",
       "        vertical-align: top;\n",
       "    }\n",
       "\n",
       "    .dataframe thead th {\n",
       "        text-align: right;\n",
       "    }\n",
       "</style>\n",
       "<table border=\"1\" class=\"dataframe\">\n",
       "  <thead>\n",
       "    <tr style=\"text-align: right;\">\n",
       "      <th></th>\n",
       "      <th>index</th>\n",
       "      <th>ISO3_code</th>\n",
       "      <th>Location</th>\n",
       "      <th>Time</th>\n",
       "      <th>TPopulation1Jan</th>\n",
       "      <th>TPopulation1July</th>\n",
       "    </tr>\n",
       "  </thead>\n",
       "  <tbody>\n",
       "    <tr>\n",
       "      <th>0</th>\n",
       "      <td>44384</td>\n",
       "      <td>BDI</td>\n",
       "      <td>Burundi</td>\n",
       "      <td>1950</td>\n",
       "      <td>2229.322</td>\n",
       "      <td>2254.938</td>\n",
       "    </tr>\n",
       "    <tr>\n",
       "      <th>1</th>\n",
       "      <td>44385</td>\n",
       "      <td>BDI</td>\n",
       "      <td>Burundi</td>\n",
       "      <td>1951</td>\n",
       "      <td>2280.554</td>\n",
       "      <td>2305.746</td>\n",
       "    </tr>\n",
       "    <tr>\n",
       "      <th>2</th>\n",
       "      <td>44386</td>\n",
       "      <td>BDI</td>\n",
       "      <td>Burundi</td>\n",
       "      <td>1952</td>\n",
       "      <td>2330.938</td>\n",
       "      <td>2355.804</td>\n",
       "    </tr>\n",
       "    <tr>\n",
       "      <th>3</th>\n",
       "      <td>44387</td>\n",
       "      <td>BDI</td>\n",
       "      <td>Burundi</td>\n",
       "      <td>1953</td>\n",
       "      <td>2380.670</td>\n",
       "      <td>2405.186</td>\n",
       "    </tr>\n",
       "    <tr>\n",
       "      <th>4</th>\n",
       "      <td>44388</td>\n",
       "      <td>BDI</td>\n",
       "      <td>Burundi</td>\n",
       "      <td>1954</td>\n",
       "      <td>2429.703</td>\n",
       "      <td>2454.586</td>\n",
       "    </tr>\n",
       "  </tbody>\n",
       "</table>\n",
       "</div>"
      ],
      "text/plain": [
       "   index ISO3_code Location  Time  TPopulation1Jan  TPopulation1July\n",
       "0  44384       BDI  Burundi  1950         2229.322          2254.938\n",
       "1  44385       BDI  Burundi  1951         2280.554          2305.746\n",
       "2  44386       BDI  Burundi  1952         2330.938          2355.804\n",
       "3  44387       BDI  Burundi  1953         2380.670          2405.186\n",
       "4  44388       BDI  Burundi  1954         2429.703          2454.586"
      ]
     },
     "execution_count": 136,
     "metadata": {},
     "output_type": "execute_result"
    }
   ],
   "source": [
    "cleaned.head()"
   ]
  },
  {
   "cell_type": "code",
   "execution_count": 140,
   "id": "2041c0f5-8c2e-4b7b-9d92-d06c3c6e19af",
   "metadata": {},
   "outputs": [],
   "source": [
    "pop_data_1950 = cleaned[cleaned[\"Time\"] == 1950]\n",
    "top_countries = pop_data_1950.nlargest(10,\"TPopulation1Jan\").sort_values(\"TPopulation1Jan\",ascending=True)"
   ]
  },
  {
   "cell_type": "code",
   "execution_count": 142,
   "id": "e0c25ddf-7b2d-4730-a737-7bd9afe794d3",
   "metadata": {},
   "outputs": [
    {
     "data": {
      "text/html": [
       "<div>\n",
       "<style scoped>\n",
       "    .dataframe tbody tr th:only-of-type {\n",
       "        vertical-align: middle;\n",
       "    }\n",
       "\n",
       "    .dataframe tbody tr th {\n",
       "        vertical-align: top;\n",
       "    }\n",
       "\n",
       "    .dataframe thead th {\n",
       "        text-align: right;\n",
       "    }\n",
       "</style>\n",
       "<table border=\"1\" class=\"dataframe\">\n",
       "  <thead>\n",
       "    <tr style=\"text-align: right;\">\n",
       "      <th></th>\n",
       "      <th>index</th>\n",
       "      <th>ISO3_code</th>\n",
       "      <th>Location</th>\n",
       "      <th>Time</th>\n",
       "      <th>TPopulation1Jan</th>\n",
       "      <th>TPopulation1July</th>\n",
       "    </tr>\n",
       "  </thead>\n",
       "  <tbody>\n",
       "    <tr>\n",
       "      <th>21280</th>\n",
       "      <td>67792</td>\n",
       "      <td>ITA</td>\n",
       "      <td>Italy</td>\n",
       "      <td>1950</td>\n",
       "      <td>46175.129</td>\n",
       "      <td>46391.673</td>\n",
       "    </tr>\n",
       "    <tr>\n",
       "      <th>20064</th>\n",
       "      <td>66424</td>\n",
       "      <td>GBR</td>\n",
       "      <td>United Kingdom</td>\n",
       "      <td>1950</td>\n",
       "      <td>49931.042</td>\n",
       "      <td>50121.017</td>\n",
       "    </tr>\n",
       "    <tr>\n",
       "      <th>29944</th>\n",
       "      <td>77368</td>\n",
       "      <td>BRA</td>\n",
       "      <td>Brazil</td>\n",
       "      <td>1950</td>\n",
       "      <td>52620.377</td>\n",
       "      <td>53408.551</td>\n",
       "    </tr>\n",
       "    <tr>\n",
       "      <th>12464</th>\n",
       "      <td>58216</td>\n",
       "      <td>IDN</td>\n",
       "      <td>Indonesia</td>\n",
       "      <td>1950</td>\n",
       "      <td>68080.719</td>\n",
       "      <td>68799.025</td>\n",
       "    </tr>\n",
       "    <tr>\n",
       "      <th>23256</th>\n",
       "      <td>69920</td>\n",
       "      <td>DEU</td>\n",
       "      <td>Germany</td>\n",
       "      <td>1950</td>\n",
       "      <td>69917.533</td>\n",
       "      <td>69847.782</td>\n",
       "    </tr>\n",
       "    <tr>\n",
       "      <th>10336</th>\n",
       "      <td>55784</td>\n",
       "      <td>JPN</td>\n",
       "      <td>Japan</td>\n",
       "      <td>1950</td>\n",
       "      <td>85696.541</td>\n",
       "      <td>86443.277</td>\n",
       "    </tr>\n",
       "    <tr>\n",
       "      <th>17632</th>\n",
       "      <td>63840</td>\n",
       "      <td>RUS</td>\n",
       "      <td>Russian Federation</td>\n",
       "      <td>1950</td>\n",
       "      <td>102666.467</td>\n",
       "      <td>103392.360</td>\n",
       "    </tr>\n",
       "    <tr>\n",
       "      <th>32376</th>\n",
       "      <td>79952</td>\n",
       "      <td>USA</td>\n",
       "      <td>United States of America</td>\n",
       "      <td>1950</td>\n",
       "      <td>153067.374</td>\n",
       "      <td>154202.680</td>\n",
       "    </tr>\n",
       "    <tr>\n",
       "      <th>11248</th>\n",
       "      <td>56848</td>\n",
       "      <td>IND</td>\n",
       "      <td>India</td>\n",
       "      <td>1950</td>\n",
       "      <td>342592.267</td>\n",
       "      <td>346278.821</td>\n",
       "    </tr>\n",
       "    <tr>\n",
       "      <th>9576</th>\n",
       "      <td>55024</td>\n",
       "      <td>CHN</td>\n",
       "      <td>China</td>\n",
       "      <td>1950</td>\n",
       "      <td>539190.005</td>\n",
       "      <td>544044.358</td>\n",
       "    </tr>\n",
       "  </tbody>\n",
       "</table>\n",
       "</div>"
      ],
      "text/plain": [
       "       index ISO3_code                  Location  Time  TPopulation1Jan  \\\n",
       "21280  67792       ITA                     Italy  1950        46175.129   \n",
       "20064  66424       GBR            United Kingdom  1950        49931.042   \n",
       "29944  77368       BRA                    Brazil  1950        52620.377   \n",
       "12464  58216       IDN                 Indonesia  1950        68080.719   \n",
       "23256  69920       DEU                   Germany  1950        69917.533   \n",
       "10336  55784       JPN                     Japan  1950        85696.541   \n",
       "17632  63840       RUS        Russian Federation  1950       102666.467   \n",
       "32376  79952       USA  United States of America  1950       153067.374   \n",
       "11248  56848       IND                     India  1950       342592.267   \n",
       "9576   55024       CHN                     China  1950       539190.005   \n",
       "\n",
       "       TPopulation1July  \n",
       "21280         46391.673  \n",
       "20064         50121.017  \n",
       "29944         53408.551  \n",
       "12464         68799.025  \n",
       "23256         69847.782  \n",
       "10336         86443.277  \n",
       "17632        103392.360  \n",
       "32376        154202.680  \n",
       "11248        346278.821  \n",
       "9576         544044.358  "
      ]
     },
     "execution_count": 142,
     "metadata": {},
     "output_type": "execute_result"
    }
   ],
   "source": [
    "top_countries"
   ]
  },
  {
   "cell_type": "code",
   "execution_count": 144,
   "id": "45b1158f-cda7-4383-902d-8b078d927347",
   "metadata": {},
   "outputs": [],
   "source": [
    "frames = cleaned[\"Time\"].unique()"
   ]
  },
  {
   "cell_type": "code",
   "execution_count": 146,
   "id": "eb1fb57a-45a2-4516-9c57-62733dadfc58",
   "metadata": {},
   "outputs": [
    {
     "data": {
      "image/png": "[encoded data removed]",
      "text/plain": [
       "<Figure size 1200x600 with 1 Axes>"
      ]
     },
     "metadata": {},
     "output_type": "display_data"
    }
   ],
   "source": [
    "fig , ax = plt.subplots(figsize=(12,6))\n",
    "\n",
    "def animate(frame):\n",
    "    ax.clear()\n",
    "    \n",
    "    pop_data = cleaned[cleaned[\"Time\"] == frame]\n",
    "    pop_countries = pop_data.nlargest(10,\"TPopulation1Jan\").sort_values(\"TPopulation1Jan\",ascending=True)\n",
    "\n",
    "    ax.barh(pop_countries[\"Location\"],pop_countries[\"TPopulation1Jan\"])\n"
   ]
  },
  {
   "cell_type": "code",
   "execution_count": 148,
   "id": "ce621dcc-9649-4d01-a540-562cb7e3ffe4",
   "metadata": {},
   "outputs": [],
   "source": [
    "anim = ani.FuncAnimation(fig, animate, frames=frames,interval=200)\n",
    "plt.show()\n"
   ]
  }
 ],
 "metadata": {
  "kernelspec": {
   "display_name": "Python [conda env:base] *",
   "language": "python",
   "name": "conda-base-py"
  },
  "language_info": {
   "codemirror_mode": {
    "name": "ipython",
    "version": 3
   },
   "file_extension": ".py",
   "mimetype": "text/x-python",
   "name": "python",
   "nbconvert_exporter": "python",
   "pygments_lexer": "ipython3",
   "version": "3.12.3"
  }
 },
 "nbformat": 4,
 "nbformat_minor": 5
}
